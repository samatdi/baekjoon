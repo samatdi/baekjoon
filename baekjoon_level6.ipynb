{
 "cells": [
  {
   "cell_type": "markdown",
   "metadata": {},
   "source": [
    "## 25083. 새싹\n",
    "\n",
    "[문제]\n",
    "\n",
    "아래 예제와 같이 새싹을 출력하시오."
   ]
  },
  {
   "cell_type": "code",
   "execution_count": 5,
   "metadata": {},
   "outputs": [
    {
     "name": "stdout",
     "output_type": "stream",
     "text": [
      "         ,r'\"7\n",
      "r`-_   ,'  ,/\n",
      " \\. \". L_r'\n",
      "   `~\\/\n",
      "      |\n",
      "      |\n"
     ]
    }
   ],
   "source": [
    "print(\"         ,r'\\\"7\")\n",
    "print(\"r`-_   ,'  ,/\")\n",
    "print(\" \\. \\\". L_r'\")\n",
    "print(\"   `~\\/\")\n",
    "print(\"      |\")\n",
    "print(\"      |\")"
   ]
  },
  {
   "cell_type": "markdown",
   "metadata": {},
   "source": [
    "## 3003. 킹, 퀸, 룩, 비숍, 나이트, 폰\n",
    "\n",
    "[문제]\n",
    "\n",
    "동혁이는 오래된 창고를 뒤지다가 낡은 체스판과 피스를 발견했다.\n",
    "\n",
    "체스판의 먼지를 털어내고 걸레로 닦으니 그럭저럭 쓸만한 체스판이 되었다. 하지만, 검정색 피스는 모두 있었으나, 흰색 피스는 개수가 올바르지 않았다.\n",
    "\n",
    "체스는 총 16개의 피스를 사용하며, 킹 1개, 퀸 1개, 룩 2개, 비숍 2개, 나이트 2개, 폰 8개로 구성되어 있다.\n",
    "\n",
    "동혁이가 발견한 흰색 피스의 개수가 주어졌을 때, 몇 개를 더하거나 빼야 올바른 세트가 되는지 구하는 프로그램을 작성하시오."
   ]
  },
  {
   "cell_type": "code",
   "execution_count": 10,
   "metadata": {},
   "outputs": [
    {
     "name": "stdout",
     "output_type": "stream",
     "text": [
      "-1 0 0 1 0 7\n"
     ]
    }
   ],
   "source": [
    "k, q, r, b, kn, p = map(int,input().split())\n",
    "bk = 1\n",
    "bq = 1\n",
    "br = 2\n",
    "bb = 2\n",
    "bkn = 2\n",
    "bp = 8\n",
    "\n",
    "print(bk-k, bq-q, br-r, bb-b, bkn-kn, bp-p)"
   ]
  },
  {
   "cell_type": "markdown",
   "metadata": {},
   "source": [
    "## 2444. 별 찍기-7\n",
    "\n",
    "[문제]\n",
    "\n",
    "예제를 보고 규칙을 유추한 뒤에 별을 찍어 보세요."
   ]
  },
  {
   "cell_type": "code",
   "execution_count": 30,
   "metadata": {},
   "outputs": [
    {
     "name": "stdout",
     "output_type": "stream",
     "text": [
      "    *\n",
      "   ***\n",
      "  *****\n",
      " *******\n",
      "*********\n",
      " *******\n",
      "  *****\n",
      "   ***\n",
      "    *\n"
     ]
    }
   ],
   "source": [
    "n = int(input())\n",
    "for i in range(1,n+1):\n",
    "    print(\" \"*(n-i)+\"*\"*(2*i-1))\n",
    "for i in range(1,n):\n",
    "    print(\" \"*(i)+\"*\"*(2*(n-i)-1))"
   ]
  },
  {
   "cell_type": "code",
   "execution_count": 45,
   "metadata": {},
   "outputs": [
    {
     "name": "stdout",
     "output_type": "stream",
     "text": [
      "    *        *        *        *        *\n",
      "   ***      ***      ***      ***      ***\n",
      "  *****    *****    *****    *****    *****\n",
      " *******  *******  *******  *******  *******\n",
      "*********************************************\n",
      " *******  *******  *******  *******  *******\n",
      "  *****    *****    *****    *****    *****\n",
      "   ***      ***      ***      ***      ***\n",
      "    *        *        *        *        *\n"
     ]
    }
   ],
   "source": [
    "n = int(input(\"별의 수를 입력하세요: \"))\n",
    "symmetry = int(input(\"대칭의 수를 입력하세요: \"))\n",
    "\n",
    "def print_pattern(space, stars, symmetry):\n",
    "    pattern = \" \" * space + stars\n",
    "    return pattern + (\" \" * (2 * space) + stars) * (symmetry - 1)\n",
    "\n",
    "# 위쪽 부분\n",
    "for i in range(1, n+1):\n",
    "    stars = \"*\" * (2*i - 1)\n",
    "    space = n - i\n",
    "    print(print_pattern(space, stars, symmetry))\n",
    "\n",
    "# 아래쪽 부분\n",
    "for i in range(1, n):\n",
    "    stars = \"*\" * (2*(n-i) - 1)\n",
    "    space = i\n",
    "    print(print_pattern(space, stars, symmetry))\n"
   ]
  },
  {
   "cell_type": "markdown",
   "metadata": {},
   "source": [
    "## 10988. 팰린드롬인지 확인하기 \n",
    "\n",
    "[문제]\n",
    "\n",
    "알파벳 소문자로만 이루어진 단어가 주어진다. 이때, 이 단어가 팰린드롬인지 아닌지 확인하는 프로그램을 작성하시오.\n",
    "\n",
    "팰린드롬이란 앞으로 읽을 때와 거꾸로 읽을 때 똑같은 단어를 말한다. \n",
    "\n",
    "level, noon은 팰린드롬이고, baekjoon, online, judge는 팰린드롬이 아니다."
   ]
  },
  {
   "cell_type": "code",
   "execution_count": 68,
   "metadata": {},
   "outputs": [
    {
     "name": "stdout",
     "output_type": "stream",
     "text": [
      "0\n"
     ]
    }
   ],
   "source": [
    "a = input()\n",
    "count_num = 0 \n",
    "for i in range(len(a)):\n",
    "    if a[i] == a[len(a)-i-1]:\n",
    "        count_num += 1 \n",
    "    else:\n",
    "        pass\n",
    "if count_num == len(a):   \n",
    "    print(1)\n",
    "else:\n",
    "    print(0)"
   ]
  },
  {
   "cell_type": "markdown",
   "metadata": {},
   "source": [
    "## 1157. 단어공부\n",
    "\n",
    "[문제]\n",
    "\n",
    "알파벳 대소문자로 된 단어가 주어지면, 이 단어에서 가장 많이 사용된 알파벳이 무엇인지 알아내는 프로그램을 작성하시오. 단, 대문자와 소문자를 구분하지 않는다."
   ]
  },
  {
   "cell_type": "code",
   "execution_count": 145,
   "metadata": {},
   "outputs": [
    {
     "name": "stdout",
     "output_type": "stream",
     "text": [
      "A\n"
     ]
    }
   ],
   "source": [
    "a = input().lower()\n",
    "alphabet_list = [st for st in a]\n",
    "alphabet_uniq = set(alphabet_list)\n",
    "num_list = [alphabet_list.count(st2) for st2 in alphabet_uniq]\n",
    "td = dict(zip(list(alphabet_uniq),num_list))\n",
    "if list(td.values()).count(max(td.values())) >=2:\n",
    "    print('?')\n",
    "elif list(td.values()).count(max(td.values())) ==1:\n",
    "    print([k for k, v in td.items() if v == max(td.values())][0].upper())\n",
    "\n"
   ]
  },
  {
   "cell_type": "code",
   "execution_count": 151,
   "metadata": {},
   "outputs": [
    {
     "name": "stdout",
     "output_type": "stream",
     "text": [
      "?\n"
     ]
    }
   ],
   "source": [
    "from collections import Counter\n",
    "\n",
    "text = input().lower()\n",
    "counter = Counter(text)\n",
    "frequent = counter.most_common()\n",
    "\n",
    "if len(frequent) > 1 and frequent[0][1] == frequent[1][1]:\n",
    "    print('?')\n",
    "else:\n",
    "    print(frequent[0][0].upper())\n"
   ]
  },
  {
   "cell_type": "markdown",
   "metadata": {},
   "source": [
    "## 2941. 크로아티아 알파벳\n",
    "\n",
    "[문제]\n",
    "\n",
    "예전에는 운영체제에서 크로아티아 알파벳을 입력할 수가 없었다. 따라서, 다음과 같이 크로아티아 알파벳을 변경해서 입력했다.\n",
    "\n",
    "크로아티아 알파벳\t변경  \n",
    "č\tc=  \n",
    "ć\tc-  \n",
    "dž\tdz=  \n",
    "đ\td-  \n",
    "lj\tlj  \n",
    "nj\tnj  \n",
    "š\ts=  \n",
    "ž\tz=  \n",
    "\n",
    "예를 들어, ljes=njak은 크로아티아 알파벳 6개(lj, e, š, nj, a, k)로 이루어져 있다. 단어가 주어졌을 때, 몇 개의 크로아티아 알파벳으로 이루어져 있는지 출력한다.\n",
    "\n",
    "dž는 무조건 하나의 알파벳으로 쓰이고, d와 ž가 분리된 것으로 보지 않는다. lj와 nj도 마찬가지이다. 위 목록에 없는 알파벳은 한 글자씩 센다."
   ]
  },
  {
   "cell_type": "code",
   "execution_count": 204,
   "metadata": {},
   "outputs": [
    {
     "name": "stdout",
     "output_type": "stream",
     "text": [
      "3\n"
     ]
    }
   ],
   "source": [
    "import re \n",
    "ca = ['c=', 'c-','dz=','d-', 'lj', 'nj', 's=', 'z=']\n",
    "b = input()\n",
    "for st in ca:\n",
    "    c = re.sub(rf\"{st}\",\" \",b)\n",
    "    if c == b:\n",
    "        pass\n",
    "    elif c != b:\n",
    "        b = c\n",
    "print(len(b))"
   ]
  },
  {
   "cell_type": "markdown",
   "metadata": {},
   "source": [
    "## 1316. 그룹 단어 체커 ★\n",
    "\n",
    "[문제]\n",
    "\n",
    "그룹 단어란 단어에 존재하는 모든 문자에 대해서, 각 문자가 연속해서 나타나는 경우만을 말한다. 예를 들면, ccazzzzbb는 c, a, z, b가 모두 연속해서 나타나고, kin도 k, i, n이 연속해서 나타나기 때문에 그룹 단어이지만, aabbbccb는 b가 떨어져서 나타나기 때문에 그룹 단어가 아니다.\n",
    "\n",
    "단어 N개를 입력으로 받아 그룹 단어의 개수를 출력하는 프로그램을 작성하시오."
   ]
  },
  {
   "cell_type": "code",
   "execution_count": 235,
   "metadata": {},
   "outputs": [
    {
     "name": "stdout",
     "output_type": "stream",
     "text": [
      "3\n"
     ]
    }
   ],
   "source": [
    "def is_group_word(word):\n",
    "    seen = set()\n",
    "    last_char = None\n",
    "\n",
    "    for char in word:\n",
    "        if char != last_char:\n",
    "            if char in seen:\n",
    "                return False\n",
    "            seen.add(char)\n",
    "            last_char = char\n",
    "\n",
    "    return True\n",
    "\n",
    "n = int(input())\n",
    "group_word_count = 0\n",
    "\n",
    "for _ in range(n):\n",
    "    word = input()\n",
    "    if is_group_word(word):\n",
    "        group_word_count += 1\n",
    "\n",
    "print(group_word_count)\n"
   ]
  },
  {
   "cell_type": "markdown",
   "metadata": {},
   "source": [
    "## 25206. 너의 평점은\n",
    "\n",
    "[문제]\n",
    "\n",
    "인하대학교 컴퓨터공학과를 졸업하기 위해서는, 전공평점이 3.3 이상이거나 졸업고사를 통과해야 한다. 그런데 아뿔싸, 치훈이는 깜빡하고 졸업고사를 응시하지 않았다는 사실을 깨달았다!\n",
    "\n",
    "치훈이의 전공평점을 계산해주는 프로그램을 작성해보자.\n",
    "\n",
    "전공평점은 전공과목별 (학점 × 과목평점)의 합을 학점의 총합으로 나눈 값이다.\n",
    "\n",
    "인하대학교 컴퓨터공학과의 등급에 따른 과목평점은 다음 표와 같다.\n",
    "\n",
    "A+\t4.5  \n",
    "A0\t4.0  \n",
    "B+\t3.5  \n",
    "B0\t3.0  \n",
    "C+\t2.5  \n",
    "C0\t2.0  \n",
    "D+\t1.5  \n",
    "D0\t1.0  \n",
    "F\t0.0  \n",
    "\n",
    "P/F 과목의 경우 등급이 P또는 F로 표시되는데, 등급이 P인 과목은 계산에서 제외해야 한다.\n",
    "\n",
    "과연 치훈이는 무사히 졸업할 수 있을까?"
   ]
  },
  {
   "cell_type": "code",
   "execution_count": null,
   "metadata": {},
   "outputs": [],
   "source": [
    "rating = ['A+', 'A0', 'B+', 'B0', 'C+', 'C0', 'D+', 'D0', 'F']\n",
    "grade = [4.5, 4.0, 3.5, 3.0, 2.5, 2.0, 1.5, 1.0, 0]\n",
    "\n",
    "total = 0\t# 학점 총합을 담을 변수\n",
    "result = 0\t# (학점 * 과목평점) 총합을 담을 변수\n",
    "for _ in range(20) :\n",
    "    s, p, g = input().split()\n",
    "    p = float(p)\n",
    "    if g != 'P' :\t# 등급이 P인 과목은 계산 안함\n",
    "        total += p\n",
    "        result += p * grade[rating.index(g)]\n",
    "\n",
    "print('%.6f' % (result / total))\n"
   ]
  }
 ],
 "metadata": {
  "kernelspec": {
   "display_name": "base",
   "language": "python",
   "name": "python3"
  },
  "language_info": {
   "codemirror_mode": {
    "name": "ipython",
    "version": 3
   },
   "file_extension": ".py",
   "mimetype": "text/x-python",
   "name": "python",
   "nbconvert_exporter": "python",
   "pygments_lexer": "ipython3",
   "version": "3.11.5"
  }
 },
 "nbformat": 4,
 "nbformat_minor": 2
}
